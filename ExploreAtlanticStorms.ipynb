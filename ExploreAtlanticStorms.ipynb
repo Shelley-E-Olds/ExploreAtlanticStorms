{
 "cells": [
  {
   "cell_type": "markdown",
   "metadata": {},
   "source": [
    "# Welcome\n",
    "\n",
    "This page is a <b>Jupyter notebook</b>: a single document that can contain cells of executable code, equations, visualizations, and narrative text. It's like having a single document that handles word processing (such as  Word), math functions (such as Excel), image generation and display, and an interface for coding.\n",
    "\n",
    "The name <b>Jupyter</b> refers to the three coding languages, <b>Julia, Python, and R</b>, that are pillars of the modern scientific world. \n",
    "\n"
   ]
  },
  {
   "cell_type": "markdown",
   "metadata": {},
   "source": [
    "For this workshop, we are using <b>Google Colaboratory</b> which is a Jupyter notebook environment that requires no setup to use.\n",
    "\n",
    "### *** JupyterLab users skip to >> JupyterLab users: Getting started ***\n",
    "\n",
    "## Colaboratory users: Getting started\n",
    "\n",
    "\n",
    "1. When you opened this notebook in Colaboratory, Google made a clone of the file and placed it into your Google Drive. To preserve a clean copy of the notebook, select <b>File > Save a Copy in Drive</b>. Google adds \"Copy of\" to the filename. You'll work in the newly named notebook. You can rename the copy by <b>File > Rename</b>. \n",
    "\n",
    "2. It's also a best practice to ensure that the colaboratory notebook is in an \"usused\" state. <b> Do this</b>: <b>Runtime > Restart Runtime</b>. \n",
    "\n",
    "3. Usually, the very first cell of a notebook is a code cell that imports necessary coding libraries and tools. In this notebook, you're reading a text cell that is right above the first code cell. You'll need to run the code cell below to load essential information into your notebook. \n",
    "\n",
    "#### TO RUN ANY CELL in COLABORATORY\n",
    "1. There are grey sections, called code cells, on this page that can be executed (played).\n",
    "2. Hover over the [ ] symbol, notice that it turns into a play symbol\n",
    "3. Click the \"play\" button (arrow pointing right) on the code cell to run.\n",
    "     While you run or \"execute\" a cell, the bracket to the left of the cell turns into a symbol of a solid circle with a square inside. A line circles the symbol. Once the code has run, a number will be placed inside the brackets.\n",
    "\n",
    "\n",
    "* <b><i>Colaboratory users only</i>, Do this:</b> Run the first cell below (this allows the remaining cells to run successfully in colaboratory). When it finishes running, in the output text, Click on the button, \"Restart Runtime\". "
   ]
  },
  {
   "cell_type": "code",
   "execution_count": null,
   "metadata": {},
   "outputs": [],
   "source": [
    "#sets up this notebook to run in colaboratory \n",
    "!apt-get install libgeos-dev\n",
    "!pip install https://github.com/matplotlib/basemap/archive/master.zip\n",
    "!pip install pyproj==1.9.6"
   ]
  },
  {
   "cell_type": "markdown",
   "metadata": {},
   "source": [
    "<b><i>Colaboratory users only</i>, Do this:</b> Run this cell too:"
   ]
  },
  {
   "cell_type": "code",
   "execution_count": null,
   "metadata": {},
   "outputs": [],
   "source": [
    "#pulls into your Google Colaboratory area all of the files needed for this notebook.\n",
    "!git clone https://github.com/Shelley-E-Olds/ExploreAtlanticStorms.git\n",
    "\n",
    "#changes the directory to ExploreAtlanticStorms and list all the files\n",
    "%cd ExploreAtlanticStorms \n",
    "!ls -la"
   ]
  },
  {
   "cell_type": "markdown",
   "metadata": {},
   "source": [
    "## JupyterLab users: Getting started\n",
    "1. To preserve a clean copy of the notebook, select <b>File > Save Notebook As...</b> and give it a new name. You'll work in the newly named notebook.\n",
    "\n",
    "2. It's also a best practice to ensure that the colaboratory notebook is in an \"usused\" state. <b> Do this</b>: <b>Kernel > Restart Kernel and Clear All Outputs</b>.\n",
    "\n",
    "3. Usually, the very first cell of a notebook is a code cell that imports necessary coding libraries and tools. In this notebook, you're reading a text cell that is right above the first code cell. You'll need to run the code cell below to load essential information into your notebook. \n",
    "\n",
    "#### TO RUN ANY CELL in JupyterLab\n",
    "1. Click the cell to highlight it (you'll see a vertical blue bar next to it)\n",
    "2. Click the \"play\" button (arrow pointing right) at the top of the page. Alternatively, you can press shift+enter. While you run or \"execute\" a cell, an asterisk appears inside the bracket to the left of the cell. Once the code has run, the asterisk will be replaced by a number in the brackets."
   ]
  },
  {
   "cell_type": "markdown",
   "metadata": {},
   "source": [
    "## Everyone, do this:\n",
    "* Run the cell below (you'll learn more about what it does later)."
   ]
  },
  {
   "cell_type": "code",
   "execution_count": null,
   "metadata": {
    "collapsed": true
   },
   "outputs": [],
   "source": [
    "%matplotlib inline\n",
    "import numpy\n",
    "import matplotlib.pyplot as plt\n",
    "import datetime\n",
    "from mpl_toolkits.basemap import Basemap\n",
    "print (\"Your environment is set up!\")"
   ]
  },
  {
   "cell_type": "markdown",
   "metadata": {},
   "source": [
    "![Image of Hurricane Irma. (source: NASA.gov)](https://raw.githubusercontent.com/Shelley-E-Olds/ExploreAtlanticStorms/master/Irma_NASA.jpg)"
   ]
  },
  {
   "cell_type": "markdown",
   "metadata": {},
   "source": [
    "## Tropical Cyclones and Hurricanes in the Atlantic \n",
    "\n",
    "This Jupyter Notebook gives you a way to map the tracks of tropical cyclones and hurricanes recorded in the Atlantic Ocean from 1950 to 2017. \n",
    "\n",
    "Start by taking a brief look at the text-based version of the dataset\n",
    "\n",
    "<b>Click on the link</b>: [dataset.](https://raw.githubusercontent.com/Shelley-E-Olds/ExploreAtlanticStorms/master/Data_AtlanticStorms_1950_2017.txt) (opens in a new tab). \n",
    "\n",
    "Each storm has multiple entries. To get a sense of what the dataset shows, scroll down to check out the set of entries for a single storm. Each columns shows the:\n",
    "Year, Month, Date, Storm number of the year, Storm Name, Latitude, Longitude, Wind speed, and Air pressure. \n",
    "\n",
    "<i>Check yourself: In plain-language, describe what this dataset shows. Why do you think there are multiple entries for one storm?</i>"
   ]
  },
  {
   "cell_type": "markdown",
   "metadata": {},
   "source": [
    "## Coding \n",
    "\n",
    "To make a map of the storm tracks, the first thing you'll need is a basemap to plot them on. The following code cell instructs python to draw a figure with specific properties. \n",
    "\n",
    "1. Take a look at the code. The first line starts with a hashtag. This is a comment line that doesn't affect the code.\n",
    "\n",
    "2. Focus in on some of the easy-to-read phrases. Many python commands are clear English words that make it very clear what the code will do. Make a prediction to yourself about what you expect to see.\n",
    "\n",
    "<b>Do this: </b>Run the cell (as instructed above) to see the output."
   ]
  },
  {
   "cell_type": "code",
   "execution_count": null,
   "metadata": {
    "collapsed": false
   },
   "outputs": [],
   "source": [
    "# Draw a basemap\n",
    "# Place a hashtag at the beginnin of a line of code to 'hide' the code, then run this cell again.\n",
    "fig = plt.figure(figsize=(15,9))\n",
    "axes = fig.add_subplot(1, 1, 1)\n",
    "mapping = Basemap(llcrnrlon=-100.0, llcrnrlat=20.0, urcrnrlon=-20.0, urcrnrlat=57.0,\n",
    "                  projection='lcc', lat_1=20.0, lat_2=40.0, lon_0=-60.0,\n",
    "                  resolution ='l', area_thresh=1000.0)\n",
    "\n",
    "mapping.drawcountries()\n",
    "mapping.fillcontinents()\n",
    "mapping.drawcoastlines()\n",
    "mapping.drawparallels(numpy.arange(10,70,20), labels=[1,1,0,0])\n",
    "mapping.drawmeridians(numpy.arange(-100,0,20), labels=[0,0,0,1])\n",
    "axes.set_title('Atlantic Hurricane Tracks (1950-2017)')\n",
    "plt.show()"
   ]
  },
  {
   "cell_type": "markdown",
   "metadata": {},
   "source": [
    "Go back up to the code cell and change some of the values, then run it again to see how it changes the basemap.\n",
    "\n",
    "For example:\n",
    "\n",
    "* What do you think will happen if you delete the line mapping.fillcontinents()? Try it! (Place a hashtag at the beginnin of a line of code to 'hide' the code, then run the cell again.\n",
    "\n",
    "* What differences do you notice if you change the numbers for (figsize=)?\n",
    "\n",
    "* The section of code that begins with \"Mapping = Basemap\" sets the parameters for the basemap so it is centered on the North Atlantic Ocean and East and Gulf Coasts of the United States. Based on the parameters in the code and the map it produces, can you produce a basemap centered on another portion of the planet?\n",
    "\n",
    "(Hints: ll = lower left; ur = upper right; crnr = corner; lon = longitude; lat = latitude)\n",
    "\n",
    "Don't worry if you end up with a map you don't like here. The purpose of this section is just to help you understand how the code controls the output."
   ]
  },
  {
   "cell_type": "markdown",
   "metadata": {},
   "source": [
    "## Loading Data \n",
    "\n",
    "Now, to plot storm tracks on the basemap, you'll need run the next code cell. This will load the text-based data you viewed earlier into your processor's live memory. The code cell instructs your processor to grab the requested data and put it into a specified format for plotting. \n",
    "\n",
    "Look over the sets of instructions below to get a sense of how the code will structure the data, then run the cell. In this case, the only visual sign of running the code will be the temporary appearance of an asterisk within the brackets, which will be replaced by a number when it's done. "
   ]
  },
  {
   "cell_type": "code",
   "execution_count": null,
   "metadata": {
    "collapsed": false
   },
   "outputs": [],
   "source": [
    "# Load data\n",
    "hurricanes = {}\n",
    "current_name = None\n",
    "num_hurricanes = numpy.zeros(68, dtype=int)\n",
    "cache = [[], [], [], [], [], [], [], [], []]\n",
    "\n",
    "with open(\"Data_AtlanticStorms_1950_2017.txt\", 'r') as hurdat_data:\n",
    "    for line in hurdat_data:\n",
    "        split_data = line.split()\n",
    "        year = int(split_data[0])\n",
    "        month = int(split_data[1])\n",
    "        day = int(split_data[2])\n",
    "        hour = int(split_data[3])\n",
    "        if split_data[5] == \"NOT\" and split_data[6] == \"NAMED\":\n",
    "            pass\n",
    "        else:\n",
    "            name = split_data[5]\n",
    "            lat = float(split_data[6])\n",
    "            lon = float(split_data[7])\n",
    "            wind_speed = float(split_data[8])\n",
    "            pressure = float(split_data[9])\n",
    "        \n",
    "            # Categorize hurricanes (wind speed in knots)\n",
    "            if wind_speed >= 64 and wind_speed < 83:\n",
    "                category = 1\n",
    "            elif wind_speed >= 83 and wind_speed < 96:\n",
    "                category = 2\n",
    "            elif wind_speed >= 96 and wind_speed < 113:\n",
    "                category = 3\n",
    "            elif wind_speed >= 113 and wind_speed < 135:\n",
    "                category = 4\n",
    "            elif wind_speed >= 135:\n",
    "                category = 5\n",
    "            else:\n",
    "                category = 0\n",
    "        \n",
    "            if name != current_name:\n",
    "                hurricanes[current_name] = {'year':cache[0][:], \n",
    "                                            'month':cache[1][:], \n",
    "                                            'day':cache[2][:], \n",
    "                                            'hour':cache[3][:], \n",
    "                                            'latitude':cache[4][:], \n",
    "                                            'longitude':cache[5][:], \n",
    "                                            'wind speed':cache[6][:], \n",
    "                                            'pressure':cache[7][:], \n",
    "                                            'category':cache[8][:]}\n",
    "                cache = [[], [], [], [], [], [], [], [], []]\n",
    "                current_name = name\n",
    "\n",
    "                # Count huricanes\n",
    "                num_hurricanes[year - 1950] +=  1\n",
    "\n",
    "            cache[0].append(year)\n",
    "            cache[1].append(month)\n",
    "            cache[2].append(day)\n",
    "            cache[3].append(hour)\n",
    "            cache[4].append(lat)\n",
    "            cache[5].append(lon)\n",
    "            cache[6].append(wind_speed)\n",
    "            cache[7].append(pressure)\n",
    "            cache[8].append(category)\n",
    "            \n",
    "# Remove empty hurricanes\n",
    "for name in hurricanes.keys():\n",
    "    if len(hurricanes[name]['year']) == 0:\n",
    "        data = hurricanes[name]\n",
    "        \n",
    "print (\"Data is loaded!\")\n",
    "\n"
   ]
  },
  {
   "cell_type": "markdown",
   "metadata": {},
   "source": [
    "\n",
    "\n",
    "\n",
    "\n",
    "## Plotting the data on the map\n",
    "\n",
    "With the data properly formatted and loaded in memory, the next code cell will draw the basemap (as above); the new section of code will use the latitude/longitude information from each storm report to plot lines of a specified width and color.\n",
    "\n",
    "\n"
   ]
  },
  {
   "cell_type": "code",
   "execution_count": null,
   "metadata": {
    "collapsed": false
   },
   "outputs": [],
   "source": [
    "# Plot the data\n",
    "fig = plt.figure(figsize=(15,9))\n",
    "axes = fig.add_subplot(1, 1, 1)\n",
    "mapping = Basemap(llcrnrlon=-100.0, llcrnrlat=0.0, urcrnrlon=-20.0, urcrnrlat=57.0,\n",
    "                  projection='lcc', lat_1=20.0, lat_2=40.0, lon_0=-60.0,\n",
    "                  resolution ='l', area_thresh=1000.0)\n",
    "\n",
    "for (name, data) in hurricanes.items():\n",
    "    longitude, latitude = mapping(data['longitude'], data['latitude'])\n",
    "    mapping.plot(longitude, latitude, linewidth=1.5, color='r')\n",
    "\n",
    "mapping.drawcoastlines()\n",
    "mapping.drawcountries()\n",
    "mapping.fillcontinents()\n",
    "mapping.drawparallels(numpy.arange(10,70,20), labels=[1,1,0,0])\n",
    "mapping.drawmeridians(numpy.arange(-100,0,20), labels=[0,0,0,1])\n",
    "axes.set_title('Atlantic Hurricane Tracks (1950-2017)')\n",
    "plt.show()\n"
   ]
  },
  {
   "cell_type": "markdown",
   "metadata": {},
   "source": [
    "### Whoa! Is that what you expected? \n",
    "Keep in mind that the output (the map you see on the screen) is the direct result of your input (the code you ran). \n",
    "\n",
    "Changing the color of lines to show the intensity of each storm could help you identify the strongest storms. The next code cell does just that. Check out the new lines of code and then run the cell. \n",
    "\n",
    "NOTE: Be patient if it takes some time to produce a map. An asterisk in the brackets or a line circling 'running' symbol means that the information is being processed."
   ]
  },
  {
   "cell_type": "code",
   "execution_count": 2,
   "metadata": {},
   "outputs": [
    {
     "ename": "NameError",
     "evalue": "name 'plt' is not defined",
     "output_type": "error",
     "traceback": [
      "\u001b[0;31m---------------------------------------------------------------------------\u001b[0m",
      "\u001b[0;31mNameError\u001b[0m                                 Traceback (most recent call last)",
      "\u001b[0;32m<ipython-input-2-a8400913a6a4>\u001b[0m in \u001b[0;36m<module>\u001b[0;34m\u001b[0m\n\u001b[1;32m      1\u001b[0m \u001b[0;31m# Plot the data with different colors for different categories\u001b[0m\u001b[0;34m\u001b[0m\u001b[0;34m\u001b[0m\u001b[0;34m\u001b[0m\u001b[0m\n\u001b[1;32m      2\u001b[0m \u001b[0mcategory_color\u001b[0m \u001b[0;34m=\u001b[0m \u001b[0;34m{\u001b[0m\u001b[0;36m5\u001b[0m\u001b[0;34m:\u001b[0m\u001b[0;34m'red'\u001b[0m\u001b[0;34m,\u001b[0m \u001b[0;36m4\u001b[0m\u001b[0;34m:\u001b[0m\u001b[0;34m'yellow'\u001b[0m\u001b[0;34m,\u001b[0m \u001b[0;36m3\u001b[0m\u001b[0;34m:\u001b[0m\u001b[0;34m'orange'\u001b[0m\u001b[0;34m,\u001b[0m \u001b[0;36m2\u001b[0m\u001b[0;34m:\u001b[0m\u001b[0;34m'green'\u001b[0m\u001b[0;34m,\u001b[0m \u001b[0;36m1\u001b[0m\u001b[0;34m:\u001b[0m\u001b[0;34m'blue'\u001b[0m\u001b[0;34m,\u001b[0m \u001b[0;36m0\u001b[0m\u001b[0;34m:\u001b[0m\u001b[0;34m'gray'\u001b[0m\u001b[0;34m}\u001b[0m\u001b[0;34m\u001b[0m\u001b[0;34m\u001b[0m\u001b[0m\n\u001b[0;32m----> 3\u001b[0;31m \u001b[0mfig\u001b[0m \u001b[0;34m=\u001b[0m \u001b[0mplt\u001b[0m\u001b[0;34m.\u001b[0m\u001b[0mfigure\u001b[0m\u001b[0;34m(\u001b[0m\u001b[0mfigsize\u001b[0m\u001b[0;34m=\u001b[0m\u001b[0;34m(\u001b[0m\u001b[0;36m15\u001b[0m\u001b[0;34m,\u001b[0m\u001b[0;36m9\u001b[0m\u001b[0;34m)\u001b[0m\u001b[0;34m)\u001b[0m\u001b[0;34m\u001b[0m\u001b[0;34m\u001b[0m\u001b[0m\n\u001b[0m\u001b[1;32m      4\u001b[0m \u001b[0maxes\u001b[0m \u001b[0;34m=\u001b[0m \u001b[0mfig\u001b[0m\u001b[0;34m.\u001b[0m\u001b[0madd_subplot\u001b[0m\u001b[0;34m(\u001b[0m\u001b[0;36m1\u001b[0m\u001b[0;34m,\u001b[0m \u001b[0;36m1\u001b[0m\u001b[0;34m,\u001b[0m \u001b[0;36m1\u001b[0m\u001b[0;34m)\u001b[0m\u001b[0;34m\u001b[0m\u001b[0;34m\u001b[0m\u001b[0m\n\u001b[1;32m      5\u001b[0m mapping = Basemap(llcrnrlon=-100.0, llcrnrlat=0.0, urcrnrlon=-20.0, urcrnrlat=57.0,\n",
      "\u001b[0;31mNameError\u001b[0m: name 'plt' is not defined"
     ]
    }
   ],
   "source": [
    "# Plot the data with different colors for different categories\n",
    "category_color = {5:'red', 4:'yellow', 3:'orange', 2:'green', 1:'blue', 0:'gray'}\n",
    "fig = plt.figure(figsize=(15,9))\n",
    "axes = fig.add_subplot(1, 1, 1)\n",
    "mapping = Basemap(llcrnrlon=-100.0, llcrnrlat=0.0, urcrnrlon=-20.0, urcrnrlat=57.0,\n",
    "                  projection='lcc', lat_1=20.0, lat_2=40.0, lon_0=-60.0,\n",
    "                  resolution ='l', area_thresh=1000.0)\n",
    "\n",
    "for (name, data) in hurricanes.items():\n",
    "    longitude, latitude = mapping(data['longitude'], data['latitude'])\n",
    "    for i in range(len(longitude) - 1):\n",
    "        color = category_color[data['category'][i]]\n",
    "        mapping.plot(longitude[i:i+2], latitude[i:i+2], linewidth=1.5, color=color)\n",
    "\n",
    "mapping.drawcoastlines()\n",
    "mapping.drawcountries()\n",
    "mapping.fillcontinents()\n",
    "mapping.drawparallels(numpy.arange(10,70,20), labels=[1,1,0,0])\n",
    "mapping.drawmeridians(numpy.arange(-100,0,20), labels=[0,0,0,1])\n",
    "axes.set_title('Atlantic Hurricane Tracks (1950-2017)')\n",
    "# Color code each segment of a storm based on hurricane category (intensity)\n",
    "for (category, color) in category_color.items():\n",
    "    axes.plot([0], [0], color=color, label=\"Category %s\" % category)\n",
    "axes.legend(loc=2)\n",
    "plt.show()"
   ]
  },
  {
   "cell_type": "markdown",
   "metadata": {},
   "source": [
    "### That's an improvement, but it's still hard to learn much from the map...  \n",
    "\n",
    "The good news is that you can use code to produce maps to answer specific questions about the storms. Check the following code cell. \n",
    "\n",
    "<i>What question(s) do you think the output map will answer?</i> Run the cell to check yourself.\n",
    " "
   ]
  },
  {
   "cell_type": "code",
   "execution_count": null,
   "metadata": {
    "collapsed": false
   },
   "outputs": [],
   "source": [
    "# Plot the data\n",
    "category_color = {5:'red', 4:'yellow', 3:'orange', 2:'green', 1:'blue', 0:'gray'}\n",
    "fig = plt.figure(figsize=(15,9))\n",
    "axes = fig.add_subplot(1, 1, 1)\n",
    "mapping = Basemap(llcrnrlon=-100.0, llcrnrlat=0.0, urcrnrlon=-20.0, urcrnrlat=57.0,\n",
    "                  projection='lcc', lat_1=20.0, lat_2=40.0, lon_0=-60.0,\n",
    "                  resolution ='l', area_thresh=1000.0)\n",
    "\n",
    "for (name, data) in hurricanes.items():\n",
    "    try:\n",
    "        \n",
    "        if data['year'][0] == 2005 and numpy.any(numpy.array(data['category']) >= 3):\n",
    "            if name == \"KATRINA\":\n",
    "                longitude, latitude = mapping(data['longitude'], data['latitude'])\n",
    "                \n",
    "                for i in range(len(longitude) - 1):\n",
    "                    color = category_color[data['category'][i]]\n",
    "                    mapping.plot(longitude[i:i+2], latitude[i:i+2], linewidth=1.5, color=color)         \n",
    "    \n",
    "    except Exception as e:\n",
    "        print() # todo: the exception should be handled some other way\n",
    "        \n",
    "mapping.drawcoastlines()\n",
    "mapping.drawcountries()\n",
    "mapping.fillcontinents()\n",
    "mapping.drawparallels(numpy.arange(10,70,20), labels=[1,1,0,0])\n",
    "mapping.drawmeridians(numpy.arange(-100,0,20), labels=[0,0,0,1])\n",
    "axes.set_title('Atlantic Hurricane Tracks (2005)')\n",
    "for (category, color) in category_color.items():\n",
    "    axes.plot([0], [0], color=color, label=\"Category %s\" % category)\n",
    "axes.legend(loc=2)\n",
    "plt.show()"
   ]
  },
  {
   "cell_type": "markdown",
   "metadata": {},
   "source": [
    "<i>What does the next cell plot?</i>"
   ]
  },
  {
   "cell_type": "code",
   "execution_count": null,
   "metadata": {},
   "outputs": [],
   "source": [
    "# Plot the data for hurricanes that hit category 5\n",
    "category_color = {5:'red', 4:'yellow', 3:'orange', 2:'green', 1:'blue', 0:'gray'}\n",
    "fig = plt.figure(figsize=(15,9))\n",
    "axes = fig.add_subplot(1, 1, 1)\n",
    "mapping = Basemap(llcrnrlon=-100.0, llcrnrlat=0.0, urcrnrlon=-20.0, urcrnrlat=57.0,\n",
    "                  projection='lcc', lat_1=20.0, lat_2=40.0, lon_0=-60.0,\n",
    "                  resolution ='l', area_thresh=1000.0)\n",
    "\n",
    "for (name, data) in hurricanes.items():\n",
    "    try:\n",
    "        \n",
    "        if numpy.any(numpy.array(data['category']) == 5):\n",
    "                longitude, latitude = mapping(data['longitude'], data['latitude'])\n",
    "                \n",
    "                for i in range(len(longitude) - 1):\n",
    "                    color = category_color[data['category'][i]]\n",
    "                    mapping.plot(longitude[i:i+2], latitude[i:i+2], linewidth=1.5, color=color)         \n",
    "    \n",
    "    except Exception as e:\n",
    "        print() # todo: the exception should be handled some other way\n",
    "        \n",
    "mapping.drawcoastlines()\n",
    "mapping.drawcountries()\n",
    "mapping.fillcontinents()\n",
    "mapping.drawparallels(numpy.arange(10,70,20), labels=[1,1,0,0])\n",
    "mapping.drawmeridians(numpy.arange(-100,0,20), labels=[0,0,0,1])\n",
    "axes.set_title('Atlantic Hurricane Tracks (1950-2017)')\n",
    "for (category, color) in category_color.items():\n",
    "    axes.plot([0], [0], color=color, label=\"Category %s\" % category)\n",
    "axes.legend(loc=2)\n",
    "plt.show()\n",
    "print (\"Data is loaded!\")"
   ]
  },
  {
   "cell_type": "markdown",
   "metadata": {},
   "source": [
    "## Challenge: Modify and run code to answer one or more of these questions: \n",
    "\n",
    "1. Start by selecting and copying the code cell above.\n",
    "2. Click the + icon to insert a new cell and paste in the code.\n",
    "3. Insert a new line at the top of the code that starts with a hashtag, then enter a comment about what you attempting to do.\n",
    "4. Modify the code and then run it to answer one of the following questions. \n",
    "\n",
    "We've set up the first 2 cells for you.\n",
    "\n",
    "#### * What path did Hurricane Camille follow in 1969?\n",
    "#### * Can you produce a map showing any tropical storms that had the same name as you or a friend of yours? \n",
    "#### * Where are the paths of hurricanes of category == 4?\n",
    "#### * Where did the Atlantic storms of your birthyear (or your child's if botn before 2018) travel?\n",
    "#### * Produce a map of all storms that occurred during September of a specific year. \n",
    "#### * Produce a series of maps showing tropical storms for each month of a year. \n",
    "\n",
    "What other questions can you answer using this code?\n",
    "\n",
    "Note: If you want to add a text section above any code cell, click the + icon, select Markdown from the drop-down menu, and begin typing your text. Use another browser tab to search for \"markdown cheatsheet\" to find  symbols to control your text output. Edit any markdown cell by double-clicking it, then run the cell to see the output.\n",
    "\n",
    "Hint: websites with all of the [names of hurricanes through history](https://www.nhc.noaa.gov/aboutnames_history.shtml) or [ hurricanes and categories](https://en.wikipedia.org/wiki/List_of_United_States_hurricanes) (both open in a new tab)"
   ]
  },
  {
   "cell_type": "code",
   "execution_count": null,
   "metadata": {},
   "outputs": [],
   "source": [
    "# What path did Hurricane Camille follow in 1969?\n",
    "\n"
   ]
  },
  {
   "cell_type": "code",
   "execution_count": null,
   "metadata": {},
   "outputs": [],
   "source": [
    "# Can you produce a map showing any tropical storms that had the same name as you or a friend of yours? \n",
    "\n"
   ]
  },
  {
   "cell_type": "markdown",
   "metadata": {},
   "source": [
    "## Challenge #2:\n",
    "\n",
    "Knowing the structure of the data loaded into your processor and a few more python commands can help you query the data to answer additional questions. For example, the following code uses graph-generating commands to produce a graph showing numbers of hurricanes for each year. \n",
    "\n",
    "If you like, you can try modifying this code to produce a graph of new information.  "
   ]
  },
  {
   "cell_type": "code",
   "execution_count": null,
   "metadata": {
    "collapsed": false
   },
   "outputs": [],
   "source": [
    "# Graph number of hurricanes per year \n",
    "fig = plt.figure()\n",
    "axes = fig.add_subplot(1, 1, 1)\n",
    "axes.plot(range(1950, 2018, 1), num_hurricanes, 'o-')\n",
    "axes.plot((1950, 2017), (num_hurricanes.mean(), num_hurricanes.mean()), 'r')\n",
    "\n",
    "# Compute rolling average\n",
    "num_hurricanes_mean = numpy.zeros(14)\n",
    "for i in range(0,67,5):\n",
    "    num_hurricanes_mean[(int)(i/5)] = num_hurricanes[i:i+5].mean()\n",
    "    \n",
    "\n",
    "axes.plot(range(1950, 2018, 5), num_hurricanes_mean, 'ko--')\n",
    "axes.set_xlim((1950, 2017))\n",
    "axes.set_title(\"Hurricanes Each Year\")\n",
    "axes.set_xlabel(\"Year\")\n",
    "axes.set_ylabel(\"Number\")\n",
    "plt.show()"
   ]
  },
  {
   "cell_type": "markdown",
   "metadata": {},
   "source": [
    "## How can I lift the hood to see how this works?\n",
    "\n",
    "For information about the initial imports in this notebook, please see the notebook [here](./explanation_of_initial_python_imports.ipynb)."
   ]
  },
  {
   "cell_type": "markdown",
   "metadata": {},
   "source": [
    "## Consider what you could learn from other BIG datasets. \n",
    "\n",
    "What kinds of questions might you be able to answer using python code to explore one or more datasets from the [**C**ollection of **R**eally **G**reat, **I**nteresting, **S**ituated **D**atasets](https://think.cs.vt.edu/corgis/python/index.html) (opens in a new tab)."
   ]
  },
  {
   "cell_type": "markdown",
   "metadata": {},
   "source": [
    "## Recap \n",
    "\n",
    "* What did you learn about hurricanes today?\n",
    "* What did you learn about coding?\n",
    "* What are some issues that came up? \n",
    "* What would it take to expand this activity to explore other types of data?\n"
   ]
  }
 ],
 "metadata": {
  "kernelspec": {
   "display_name": "Python 3",
   "language": "python",
   "name": "python3"
  },
  "language_info": {
   "codemirror_mode": {
    "name": "ipython",
    "version": 3
   },
   "file_extension": ".py",
   "mimetype": "text/x-python",
   "name": "python",
   "nbconvert_exporter": "python",
   "pygments_lexer": "ipython3",
   "version": "3.7.3"
  },
  "latex_envs": {
   "bibliofile": "biblio.bib",
   "cite_by": "apalike",
   "current_citInitial": 1,
   "eqLabelWithNumbers": true,
   "eqNumInitial": 0
  }
 },
 "nbformat": 4,
 "nbformat_minor": 2
}
