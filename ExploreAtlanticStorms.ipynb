{
 "cells": [
  {
   "cell_type": "markdown",
   "metadata": {},
   "source": [
    "# Welcome\n",
    "\n",
    "This page is a <b>Jupyter notebook</b>: a single document that can contain cells of executable code, equations, visualizations, and narrative text. It's like having a single document that handles word processing (such as  Word), math functions (such as Excel), image generation and display, and an interface for coding.\n",
    "\n",
    "The name <b>Jupyter</b> refers to the three coding languages, <b>Julia, Python, and R</b>, that are pillars of the modern scientific world. \n",
    "\n"
   ]
  },
  {
   "cell_type": "markdown",
   "metadata": {},
   "source": [
    "For this workshop, we are using <b>Google Colaboratory</b> which is a Jupyter notebook environment that requires no setup to use.\n",
    "\n",
    "### *** JupyterLab users skip to >> JupyterLab users: Getting started ***\n",
    "\n",
    "## Colaboratory users: Getting started\n",
    "\n",
    "\n",
    "1. When you opened this notebook in Colaboratory, Google made a clone of the file and placed it into your Google Drive. To preserve a clean copy of the notebook, select <b>File > Save a Copy in Drive</b>. Google adds \"Copy of\" to the filename. You'll work in the newly named notebook. You can rename the copy by <b>File > Rename</b>. \n",
    "\n",
    "2. It's also a best practice to ensure that the colaboratory notebook is in an \"usused\" state. <b> Do this</b>: <b>Runtime > Restart Runtime</b>. \n",
    "\n",
    "3. Usually, the very first cell of a notebook is a code cell that imports necessary coding libraries and tools. In this notebook, you're reading a text cell that is right above the first code cell. You'll need to run the code cell below to load essential information into your notebook. \n",
    "\n",
    "#### TO RUN ANY CELL in COLABORATORY\n",
    "1. There are grey sections, called code cells, on this page that can be executed (played).\n",
    "2. Hover over the [ ] symbol, notice that it turns into a play symbol\n",
    "3. Click the \"play\" button (arrow pointing right) on the code cell to run.\n",
    "     While you run or \"execute\" a cell, an asterisk appears inside the bracket to the left of the cell. Once the code has run, the asterisk will be replaced by a number in the brackets.\n",
    "\n",
    "\n",
    "* Colaboratory users <b>Do this:</b> Run the cell below (this allows the remaining cells to run successfully in colaboratory)."
   ]
  },
  {
   "cell_type": "code",
   "execution_count": null,
   "metadata": {},
   "outputs": [],
   "source": [
    "#pulls into your Google Colaboratory area all of the files needed for this notebook.\n",
    "!git clone https://github.com/Shelley-E-Olds/ExploreAtlanticStorms.git\n",
    "\n",
    "#sets up this notebook to run in colaboratory \n",
    "!apt-get install libgeos-3.5.0  #getting an error Unable to locate package libgeos-3.5.0\n",
    "!apt-get install libgeos-dev\n",
    "!pip install https://github.com/matplotlib/basemap/archive/master.zip\n",
    "!pip install pyproj==1.9.6\n",
    "\n",
    "#changes the directory to ExploreAtlanticStorms and list all the files\n",
    "%cd ExploreAtlanticStorms \n",
    "!ls"
   ]
  },
  {
   "cell_type": "markdown",
   "metadata": {},
   "source": [
    "## JupyterLab users: Getting started\n",
    "1. To preserve a clean copy of the notebook, select <b>File > Save Notebook As...</b> and give it a new name. You'll work in the newly named notebook.\n",
    "\n",
    "2. It's also a best practice to ensure that the colaboratory notebook is in an \"usused\" state. <b> Do this</b>: <b>Kernel > Restart Kernel and Clear All Outputs</b>.\n",
    "\n",
    "3. Usually, the very first cell of a notebook is a code cell that imports necessary coding libraries and tools. In this notebook, you're reading a text cell that is right above the first code cell. You'll need to run the code cell below to load essential information into your notebook. \n",
    "\n",
    "#### TO RUN ANY CELL in JupyterLab\n",
    "1. Click the cell to highlight it (you'll see a vertical blue bar next to it)\n",
    "2. Click the \"play\" button (arrow pointing right) at the top of the page. Alternatively, you can press shift+enter. While you run or \"execute\" a cell, an asterisk appears inside the bracket to the left of the cell. Once the code has run, the asterisk will be replaced by a number in the brackets."
   ]
  },
  {
   "cell_type": "markdown",
   "metadata": {},
   "source": [
    "## Everyone, do this:\n",
    "* Run the cell below (you'll learn more about what it does later)."
   ]
  },
  {
   "cell_type": "code",
   "execution_count": 1,
   "metadata": {},
   "outputs": [
    {
     "ename": "KeyError",
     "evalue": "'PROJ_LIB'",
     "output_type": "error",
     "traceback": [
      "\u001b[1;31m---------------------------------------------------------------------------\u001b[0m",
      "\u001b[1;31mKeyError\u001b[0m                                  Traceback (most recent call last)",
      "\u001b[1;32m<ipython-input-1-0ae8b098c607>\u001b[0m in \u001b[0;36m<module>\u001b[1;34m\u001b[0m\n\u001b[0;32m      3\u001b[0m \u001b[1;32mimport\u001b[0m \u001b[0mmatplotlib\u001b[0m\u001b[1;33m.\u001b[0m\u001b[0mpyplot\u001b[0m \u001b[1;32mas\u001b[0m \u001b[0mplt\u001b[0m\u001b[1;33m\u001b[0m\u001b[1;33m\u001b[0m\u001b[0m\n\u001b[0;32m      4\u001b[0m \u001b[1;32mimport\u001b[0m \u001b[0mdatetime\u001b[0m\u001b[1;33m\u001b[0m\u001b[1;33m\u001b[0m\u001b[0m\n\u001b[1;32m----> 5\u001b[1;33m \u001b[1;32mfrom\u001b[0m \u001b[0mmpl_toolkits\u001b[0m\u001b[1;33m.\u001b[0m\u001b[0mbasemap\u001b[0m \u001b[1;32mimport\u001b[0m \u001b[0mBasemap\u001b[0m\u001b[1;33m\u001b[0m\u001b[1;33m\u001b[0m\u001b[0m\n\u001b[0m",
      "\u001b[1;32m~\\AppData\\Local\\Continuum\\anaconda3_5.2.0_64b\\lib\\site-packages\\mpl_toolkits\\basemap\\__init__.py\u001b[0m in \u001b[0;36m<module>\u001b[1;34m\u001b[0m\n\u001b[0;32m    153\u001b[0m \u001b[1;33m\u001b[0m\u001b[0m\n\u001b[0;32m    154\u001b[0m \u001b[1;31m# create dictionary that maps epsg codes to Basemap kwargs.\u001b[0m\u001b[1;33m\u001b[0m\u001b[1;33m\u001b[0m\u001b[1;33m\u001b[0m\u001b[0m\n\u001b[1;32m--> 155\u001b[1;33m \u001b[0mpyproj_datadir\u001b[0m \u001b[1;33m=\u001b[0m \u001b[0mos\u001b[0m\u001b[1;33m.\u001b[0m\u001b[0menviron\u001b[0m\u001b[1;33m[\u001b[0m\u001b[1;34m'PROJ_LIB'\u001b[0m\u001b[1;33m]\u001b[0m\u001b[1;33m\u001b[0m\u001b[1;33m\u001b[0m\u001b[0m\n\u001b[0m\u001b[0;32m    156\u001b[0m \u001b[0mepsgf\u001b[0m \u001b[1;33m=\u001b[0m \u001b[0mopen\u001b[0m\u001b[1;33m(\u001b[0m\u001b[0mos\u001b[0m\u001b[1;33m.\u001b[0m\u001b[0mpath\u001b[0m\u001b[1;33m.\u001b[0m\u001b[0mjoin\u001b[0m\u001b[1;33m(\u001b[0m\u001b[0mpyproj_datadir\u001b[0m\u001b[1;33m,\u001b[0m\u001b[1;34m'epsg'\u001b[0m\u001b[1;33m)\u001b[0m\u001b[1;33m)\u001b[0m\u001b[1;33m\u001b[0m\u001b[1;33m\u001b[0m\u001b[0m\n\u001b[0;32m    157\u001b[0m \u001b[0mepsg_dict\u001b[0m\u001b[1;33m=\u001b[0m\u001b[1;33m{\u001b[0m\u001b[1;33m}\u001b[0m\u001b[1;33m\u001b[0m\u001b[1;33m\u001b[0m\u001b[0m\n",
      "\u001b[1;32m~\\AppData\\Local\\Continuum\\anaconda3_5.2.0_64b\\lib\\os.py\u001b[0m in \u001b[0;36m__getitem__\u001b[1;34m(self, key)\u001b[0m\n\u001b[0;32m    667\u001b[0m         \u001b[1;32mexcept\u001b[0m \u001b[0mKeyError\u001b[0m\u001b[1;33m:\u001b[0m\u001b[1;33m\u001b[0m\u001b[1;33m\u001b[0m\u001b[0m\n\u001b[0;32m    668\u001b[0m             \u001b[1;31m# raise KeyError with the original key value\u001b[0m\u001b[1;33m\u001b[0m\u001b[1;33m\u001b[0m\u001b[1;33m\u001b[0m\u001b[0m\n\u001b[1;32m--> 669\u001b[1;33m             \u001b[1;32mraise\u001b[0m \u001b[0mKeyError\u001b[0m\u001b[1;33m(\u001b[0m\u001b[0mkey\u001b[0m\u001b[1;33m)\u001b[0m \u001b[1;32mfrom\u001b[0m \u001b[1;32mNone\u001b[0m\u001b[1;33m\u001b[0m\u001b[1;33m\u001b[0m\u001b[0m\n\u001b[0m\u001b[0;32m    670\u001b[0m         \u001b[1;32mreturn\u001b[0m \u001b[0mself\u001b[0m\u001b[1;33m.\u001b[0m\u001b[0mdecodevalue\u001b[0m\u001b[1;33m(\u001b[0m\u001b[0mvalue\u001b[0m\u001b[1;33m)\u001b[0m\u001b[1;33m\u001b[0m\u001b[1;33m\u001b[0m\u001b[0m\n\u001b[0;32m    671\u001b[0m \u001b[1;33m\u001b[0m\u001b[0m\n",
      "\u001b[1;31mKeyError\u001b[0m: 'PROJ_LIB'"
     ]
    }
   ],
   "source": [
    "%matplotlib inline\n",
    "import numpy\n",
    "import matplotlib.pyplot as plt\n",
    "import datetime\n",
    "from mpl_toolkits.basemap import Basemap"
   ]
  },
  {
   "cell_type": "markdown",
   "metadata": {},
   "source": [
    "![Image of Hurricane Irma. (source: NASA.gov(](./Irma_NASA.jpg)"
   ]
  },
  {
   "cell_type": "markdown",
   "metadata": {},
   "source": [
    "## Tropical Cyclones and Hurricanes in the Atlantic \n",
    "\n",
    "This Jupyter Notebook gives you a way to map the tracks of tropical cyclones and hurricanes recorded in the Atlantic Ocean from 1950 to 2017. \n",
    "\n",
    "Start by taking a brief look at the text-based version of the dataset\n",
    "\n",
    "<b>Click on the link</b>: [dataset.](https://raw.githubusercontent.com/Shelley-E-Olds/ExploreAtlanticStorms/master/Data.txt) (opens in a new tab). \n",
    "\n",
    "To get a sense of what the dataset shows, scroll down to check out the set of entries for a single storm. Columns show the Year, Month, Date, Storm number of the year, Storm Name, Latitude, Longitude, Wind speed, and Air pressure. \n",
    "\n",
    "Check yourself: In plain-language, describe what this dataset shows. "
   ]
  },
  {
   "cell_type": "markdown",
   "metadata": {},
   "source": [
    "## Coding \n",
    "\n",
    "To make a map of the storm tracks, the first thing you'll need is a basemap to plot them on. The following code cell instructs python to draw a figure with specific properties. \n",
    "\n",
    "1. Take a look at the code. The first line starts with a hashtag. This is a comment line that doesn't affect the code.\n",
    "\n",
    "2. Focus in on some of the easy-to-read phrases. Many python commands are clear English words that make it very clear what the code will do. Make a prediction to yourself about what you expect to see.\n",
    "\n",
    "<b>Do this: </b>Run the cell (as instructed above) to see the output."
   ]
  },
  {
   "cell_type": "code",
   "execution_count": 4,
   "metadata": {},
   "outputs": [
    {
     "ename": "NameError",
     "evalue": "name 'Basemap' is not defined",
     "output_type": "error",
     "traceback": [
      "\u001b[0;31m---------------------------------------------------------------------------\u001b[0m",
      "\u001b[0;31mNameError\u001b[0m                                 Traceback (most recent call last)",
      "\u001b[0;32m<ipython-input-4-4546e7d2e295>\u001b[0m in \u001b[0;36m<module>\u001b[0;34m\u001b[0m\n\u001b[1;32m      2\u001b[0m \u001b[0mfig\u001b[0m \u001b[0;34m=\u001b[0m \u001b[0mplt\u001b[0m\u001b[0;34m.\u001b[0m\u001b[0mfigure\u001b[0m\u001b[0;34m(\u001b[0m\u001b[0mfigsize\u001b[0m\u001b[0;34m=\u001b[0m\u001b[0;34m(\u001b[0m\u001b[0;36m15\u001b[0m\u001b[0;34m,\u001b[0m\u001b[0;36m9\u001b[0m\u001b[0;34m)\u001b[0m\u001b[0;34m)\u001b[0m\u001b[0;34m\u001b[0m\u001b[0;34m\u001b[0m\u001b[0m\n\u001b[1;32m      3\u001b[0m \u001b[0maxes\u001b[0m \u001b[0;34m=\u001b[0m \u001b[0mfig\u001b[0m\u001b[0;34m.\u001b[0m\u001b[0madd_subplot\u001b[0m\u001b[0;34m(\u001b[0m\u001b[0;36m1\u001b[0m\u001b[0;34m,\u001b[0m \u001b[0;36m1\u001b[0m\u001b[0;34m,\u001b[0m \u001b[0;36m1\u001b[0m\u001b[0;34m)\u001b[0m\u001b[0;34m\u001b[0m\u001b[0;34m\u001b[0m\u001b[0m\n\u001b[0;32m----> 4\u001b[0;31m mapping = Basemap(llcrnrlon=-100.0, llcrnrlat=20.0, urcrnrlon=-20.0, urcrnrlat=57.0,\n\u001b[0m\u001b[1;32m      5\u001b[0m                   \u001b[0mprojection\u001b[0m\u001b[0;34m=\u001b[0m\u001b[0;34m'lcc'\u001b[0m\u001b[0;34m,\u001b[0m \u001b[0mlat_1\u001b[0m\u001b[0;34m=\u001b[0m\u001b[0;36m20.0\u001b[0m\u001b[0;34m,\u001b[0m \u001b[0mlat_2\u001b[0m\u001b[0;34m=\u001b[0m\u001b[0;36m40.0\u001b[0m\u001b[0;34m,\u001b[0m \u001b[0mlon_0\u001b[0m\u001b[0;34m=\u001b[0m\u001b[0;34m-\u001b[0m\u001b[0;36m60.0\u001b[0m\u001b[0;34m,\u001b[0m\u001b[0;34m\u001b[0m\u001b[0;34m\u001b[0m\u001b[0m\n\u001b[1;32m      6\u001b[0m                   resolution ='l', area_thresh=1000.0)\n",
      "\u001b[0;31mNameError\u001b[0m: name 'Basemap' is not defined"
     ]
    },
    {
     "data": {
      "image/png": "[encoded data removed]",
      "text/plain": [
       "<Figure size 1080x648 with 1 Axes>"
      ]
     },
     "metadata": {
      "needs_background": "light"
     },
     "output_type": "display_data"
    }
   ],
   "source": [
    "# Draw a basemap\n",
    "fig = plt.figure(figsize=(15,9))\n",
    "axes = fig.add_subplot(1, 1, 1)\n",
    "mapping = Basemap(llcrnrlon=-100.0, llcrnrlat=20.0, urcrnrlon=-20.0, urcrnrlat=57.0,\n",
    "                  projection='lcc', lat_1=20.0, lat_2=40.0, lon_0=-60.0,\n",
    "                  resolution ='l', area_thresh=1000.0)\n",
    "\n",
    "mapping.drawcountries()\n",
    "mapping.fillcontinents()\n",
    "mapping.drawcoastlines()\n",
    "mapping.drawparallels(numpy.arange(10,70,20), labels=[1,1,0,0])\n",
    "mapping.drawmeridians(numpy.arange(-100,0,20), labels=[0,0,0,1])\n",
    "axes.set_title('Atlantic Hurricane Tracks (1950-2017)')\n",
    "plt.show()"
   ]
  },
  {
   "cell_type": "markdown",
   "metadata": {},
   "source": [
    "Go back up to the code cell and change some of the values, then run it again to see how it changes the basemap. \n",
    "\n",
    "For example:\n",
    "* What do you think will happen if you delete the line mapping.drawcoastlines()? \n",
    "* What differences do you notice if you change the numbers for (figsize=)?\n",
    "* The section of code that begins with \"Mapping = Basemap\" sets the parameters for the basemap so it is centered on the North Atlantic Ocean and East and Gulf Coasts of the United States. Based on the parameters in the code and the map it produces, can you produce a basemap centered on another portion of the planet? (Hints: ll = lower left; ur = upper right; crnr = corner; lon = longitude; lat = latitude)\n",
    "\n",
    "Don't worry if you end up with a map you don't like here. The purpose of this section is just to help you understand how the code controls the output."
   ]
  },
  {
   "cell_type": "markdown",
   "metadata": {},
   "source": [
    "## Loading Data \n",
    "\n",
    "Now, to plot storm tracks on the basemap, you'll need run the next code cell. This will load the text-based data you viewed earlier into your processor's live memory. The code cell instructs your processor to grab the requested data and put it into a specified format for plotting. \n",
    "\n",
    "Look over the sets of instructions below to get a sense of how the code will structure the data, then run the cell. In this case, the only visual sign of running the code will be the temporary appearance of an asterisk within the brackets, which will be replaced by a number when it's done. "
   ]
  },
  {
   "cell_type": "code",
   "execution_count": 9,
   "metadata": {},
   "outputs": [
    {
     "name": "stdout",
     "output_type": "stream",
     "text": [
      "Data is loaded!\n"
     ]
    }
   ],
   "source": [
    "# Load data\n",
    "hurricanes = {}\n",
    "current_name = None\n",
    "num_hurricanes = numpy.zeros(68, dtype=int)\n",
    "cache = [[], [], [], [], [], [], [], [], []]\n",
    "\n",
    "with open(\"Data_AtlanticStorms_1950_2017.txt\", 'r') as hurdat_data:\n",
    "    for line in hurdat_data:\n",
    "        split_data = line.split()\n",
    "        year = int(split_data[0])\n",
    "        month = int(split_data[1])\n",
    "        day = int(split_data[2])\n",
    "        hour = int(split_data[3])\n",
    "        if split_data[5] == \"NOT\" and split_data[6] == \"NAMED\":\n",
    "            pass\n",
    "        else:\n",
    "            name = split_data[5]\n",
    "            lat = float(split_data[6])\n",
    "            lon = float(split_data[7])\n",
    "            wind_speed = float(split_data[8])\n",
    "            pressure = float(split_data[9])\n",
    "        \n",
    "            # Categorize hurricanes (wind speed in knots)\n",
    "            if wind_speed >= 64 and wind_speed < 83:\n",
    "                category = 1\n",
    "            elif wind_speed >= 83 and wind_speed < 96:\n",
    "                category = 2\n",
    "            elif wind_speed >= 96 and wind_speed < 113:\n",
    "                category = 3\n",
    "            elif wind_speed >= 113 and wind_speed < 135:\n",
    "                category = 4\n",
    "            elif wind_speed >= 135:\n",
    "                category = 5\n",
    "            else:\n",
    "                category = 0\n",
    "        \n",
    "            if name != current_name:\n",
    "                hurricanes[current_name] = {'year':cache[0][:], \n",
    "                                            'month':cache[1][:], \n",
    "                                            'day':cache[2][:], \n",
    "                                            'hour':cache[3][:], \n",
    "                                            'latitude':cache[4][:], \n",
    "                                            'longitude':cache[5][:], \n",
    "                                            'wind speed':cache[6][:], \n",
    "                                            'pressure':cache[7][:], \n",
    "                                            'category':cache[8][:]}\n",
    "                cache = [[], [], [], [], [], [], [], [], []]\n",
    "                current_name = name\n",
    "\n",
    "                # Count huricanes\n",
    "                num_hurricanes[year - 1950] +=  1\n",
    "\n",
    "            cache[0].append(year)\n",
    "            cache[1].append(month)\n",
    "            cache[2].append(day)\n",
    "            cache[3].append(hour)\n",
    "            cache[4].append(lat)\n",
    "            cache[5].append(lon)\n",
    "            cache[6].append(wind_speed)\n",
    "            cache[7].append(pressure)\n",
    "            cache[8].append(category)\n",
    "            \n",
    "# Remove empty hurricanes\n",
    "for name in hurricanes.keys():\n",
    "    if len(hurricanes[name]['year']) == 0:\n",
    "        data = hurricanes[name]\n",
    "        \n",
    "print (\"Data is loaded!\")\n",
    "\n"
   ]
  },
  {
   "cell_type": "markdown",
   "metadata": {},
   "source": [
    "\n",
    "\n",
    "\n",
    "\n",
    "## Plotting the data on the map\n",
    "\n",
    "With the data properly formatted and loaded in memory, the next code cell will draw the basemap (as above); the new section of code will use the latitude/longitude information from each storm report to plot lines of a specified width and color.\n",
    "\n",
    "\n"
   ]
  },
  {
   "cell_type": "code",
   "execution_count": null,
   "metadata": {},
   "outputs": [],
   "source": [
    "# Plot the data\n",
    "fig = plt.figure(figsize=(15,9))\n",
    "axes = fig.add_subplot(1, 1, 1)\n",
    "mapping = Basemap(llcrnrlon=-100.0, llcrnrlat=0.0, urcrnrlon=-20.0, urcrnrlat=57.0,\n",
    "                  projection='lcc', lat_1=20.0, lat_2=40.0, lon_0=-60.0,\n",
    "                  resolution ='l', area_thresh=1000.0)\n",
    "\n",
    "for (name, data) in hurricanes.items():\n",
    "    longitude, latitude = mapping(data['longitude'], data['latitude'])\n",
    "    mapping.plot(longitude, latitude, linewidth=1.5, color='r')\n",
    "\n",
    "mapping.drawcoastlines()\n",
    "mapping.drawcountries()\n",
    "mapping.fillcontinents()\n",
    "mapping.drawparallels(numpy.arange(10,70,20), labels=[1,1,0,0])\n",
    "mapping.drawmeridians(numpy.arange(-100,0,20), labels=[0,0,0,1])\n",
    "axes.set_title('Atlantic Hurricane Tracks (1950-2017)')\n",
    "plt.show()\n"
   ]
  },
  {
   "cell_type": "markdown",
   "metadata": {},
   "source": [
    "### Whoa! Is that what you expected? \n",
    "Keep in mind that the output (the map you see on the screen) is the direct result of your input (the code you ran). \n",
    "\n",
    "Changing the color of lines to show the intensity of each storm could help you identify the strongest storms. The next code cell does just that. Check out the new lines of code and then run the cell. \n",
    "\n",
    "NOTE: Be patient if it takes some time to produce a map. An asterisk in the brackets before a cell means that the information is being processed."
   ]
  },
  {
   "cell_type": "code",
   "execution_count": null,
   "metadata": {},
   "outputs": [],
   "source": [
    "# Plot the data with different colors for different categories\n",
    "category_color = {5:'red', 4:'yellow', 3:'orange', 2:'green', 1:'blue', 0:'gray'}\n",
    "fig = plt.figure(figsize=(15,9))\n",
    "axes = fig.add_subplot(1, 1, 1)\n",
    "mapping = Basemap(llcrnrlon=-100.0, llcrnrlat=0.0, urcrnrlon=-20.0, urcrnrlat=57.0,\n",
    "                  projection='lcc', lat_1=20.0, lat_2=40.0, lon_0=-60.0,\n",
    "                  resolution ='l', area_thresh=1000.0)\n",
    "\n",
    "for (name, data) in hurricanes.items():\n",
    "    longitude, latitude = mapping(data['longitude'], data['latitude'])\n",
    "    for i in range(len(longitude) - 1):\n",
    "        color = category_color[data['category'][i]]\n",
    "        mapping.plot(longitude[i:i+2], latitude[i:i+2], linewidth=1.5, color=color)\n",
    "\n",
    "mapping.drawcoastlines()\n",
    "mapping.drawcountries()\n",
    "mapping.fillcontinents()\n",
    "mapping.drawparallels(numpy.arange(10,70,20), labels=[1,1,0,0])\n",
    "mapping.drawmeridians(numpy.arange(-100,0,20), labels=[0,0,0,1])\n",
    "axes.set_title('Atlantic Hurricane Tracks (1950-2017)')\n",
    "for (category, color) in category_color.items():\n",
    "    axes.plot([0], [0], color=color, label=\"Category %s\" % category)\n",
    "axes.legend(loc=2)\n",
    "plt.show()"
   ]
  },
  {
   "cell_type": "markdown",
   "metadata": {},
   "source": [
    "### That's an improvement, but it's still hard to learn much from the map...  \n",
    "\n",
    "The good news is that you can use code to produce maps to answer specific questions about the storms. Check the following code cell. What question(s) do you think the output map will answer? Run the cell to check yourself.\n",
    " "
   ]
  },
  {
   "cell_type": "code",
   "execution_count": null,
   "metadata": {},
   "outputs": [],
   "source": [
    "# Plot the data\n",
    "category_color = {5:'red', 4:'yellow', 3:'orange', 2:'green', 1:'blue', 0:'gray'}\n",
    "fig = plt.figure(figsize=(15,9))\n",
    "axes = fig.add_subplot(1, 1, 1)\n",
    "mapping = Basemap(llcrnrlon=-100.0, llcrnrlat=0.0, urcrnrlon=-20.0, urcrnrlat=57.0,\n",
    "                  projection='lcc', lat_1=20.0, lat_2=40.0, lon_0=-60.0,\n",
    "                  resolution ='l', area_thresh=1000.0)\n",
    "\n",
    "for (name, data) in hurricanes.items():\n",
    "    try:\n",
    "        \n",
    "        if data['year'][0] == 2005 and numpy.any(numpy.array(data['category']) >= 3):\n",
    "            if name == \"KATRINA\":\n",
    "                longitude, latitude = mapping(data['longitude'], data['latitude'])\n",
    "                \n",
    "                for i in range(len(longitude) - 1):\n",
    "                    color = category_color[data['category'][i]]\n",
    "                    mapping.plot(longitude[i:i+2], latitude[i:i+2], linewidth=1.5, color=color)         \n",
    "    \n",
    "    except Exception as e:\n",
    "        print() # todo: the exception should be handled some other way\n",
    "        \n",
    "mapping.drawcoastlines()\n",
    "mapping.drawcountries()\n",
    "mapping.fillcontinents()\n",
    "mapping.drawparallels(numpy.arange(10,70,20), labels=[1,1,0,0])\n",
    "mapping.drawmeridians(numpy.arange(-100,0,20), labels=[0,0,0,1])\n",
    "axes.set_title('Atlantic Hurricane Tracks (1950-2017)')\n",
    "for (category, color) in category_color.items():\n",
    "    axes.plot([0], [0], color=color, label=\"Category %s\" % category)\n",
    "axes.legend(loc=2)\n",
    "plt.show()"
   ]
  },
  {
   "cell_type": "code",
   "execution_count": null,
   "metadata": {},
   "outputs": [],
   "source": [
    "# Plot the data for hurricanes that hit category 5\n",
    "category_color = {5:'red', 4:'yellow', 3:'orange', 2:'green', 1:'blue', 0:'gray'}\n",
    "fig = plt.figure(figsize=(15,9))\n",
    "axes = fig.add_subplot(1, 1, 1)\n",
    "mapping = Basemap(llcrnrlon=-100.0, llcrnrlat=0.0, urcrnrlon=-20.0, urcrnrlat=57.0,\n",
    "                  projection='lcc', lat_1=20.0, lat_2=40.0, lon_0=-60.0,\n",
    "                  resolution ='l', area_thresh=1000.0)\n",
    "\n",
    "for (name, data) in hurricanes.items():\n",
    "    try:\n",
    "        \n",
    "        if numpy.any(numpy.array(data['category']) >= 5):\n",
    "                longitude, latitude = mapping(data['longitude'], data['latitude'])\n",
    "                \n",
    "                for i in range(len(longitude) - 1):\n",
    "                    color = category_color[data['category'][i]]\n",
    "                    mapping.plot(longitude[i:i+2], latitude[i:i+2], linewidth=1.5, color=color)         \n",
    "    \n",
    "    except Exception as e:\n",
    "        print() # todo: the exception should be handled some other way\n",
    "        \n",
    "mapping.drawcoastlines()\n",
    "mapping.drawcountries()\n",
    "mapping.fillcontinents()\n",
    "mapping.drawparallels(numpy.arange(10,70,20), labels=[1,1,0,0])\n",
    "mapping.drawmeridians(numpy.arange(-100,0,20), labels=[0,0,0,1])\n",
    "axes.set_title('Atlantic Hurricane Tracks (1950-2017)')\n",
    "for (category, color) in category_color.items():\n",
    "    axes.plot([0], [0], color=color, label=\"Category %s\" % category)\n",
    "axes.legend(loc=2)\n",
    "plt.show()"
   ]
  },
  {
   "cell_type": "markdown",
   "metadata": {},
   "source": [
    "## Challenge: Modify and run code to answer one or more of these questions: \n",
    "\n",
    "1. Start by selecting and copying the code cell above.\n",
    "2. Click the + icon to insert a new cell and paste in the code.\n",
    "3. Insert a new line at the top of the code that starts with a hashtag, then enter a comment about what you attempting to do.\n",
    "4. Modify the code and then run it to answer one of the following questions. \n",
    "\n",
    "#### * What path did Hurricane Camille follow in 1969?\n",
    "#### * Can you produce a map showing any tropical storms that had the same name as you or a friend of yours? \n",
    "#### * Where are the paths of the strongest hurricanes (category = 5)?\n",
    "#### * Where did the Atlantic storms of 2017 travel?\n",
    "#### * Produce a map of all tropical storms that occurred during June of a specific year. Produce a series of maps showing tropical storms for each month of a year. \n",
    "\n",
    "What other questions can you answer using this code?\n",
    "\n",
    "Note: If you want to add a text section above any code cell, click the + icon, select Markdown from the drop-down menu, and begin typing your text. Use another browser tab to search for \"markdown cheatsheet\" to find  symbols to control your text output. Edit any markdown cell by double-clicking it, then run the cell to see the output."
   ]
  },
  {
   "cell_type": "markdown",
   "metadata": {},
   "source": [
    "## Challenge #2:\n",
    "\n",
    "Knowing the structure of the data loaded into your processor and a few more python commands can help you query the data to answer additional questions. For example, the following code uses graph-generating commands to produce a graph showing numbers of hurricanes for each year. \n",
    "\n",
    "If you like, you can try modifying this code to produce a graph of new information.  "
   ]
  },
  {
   "cell_type": "code",
   "execution_count": null,
   "metadata": {},
   "outputs": [],
   "source": [
    "# Graph number of hurricanes per year \n",
    "fig = plt.figure()\n",
    "axes = fig.add_subplot(1, 1, 1)\n",
    "axes.plot(range(1950, 2018, 1), num_hurricanes, 'o-')\n",
    "axes.plot((1950, 2017), (num_hurricanes.mean(), num_hurricanes.mean()), 'r')\n",
    "\n",
    "# Compute rolling average\n",
    "num_hurricanes_mean = numpy.zeros(14)\n",
    "for i in range(0,67,5):\n",
    "    num_hurricanes_mean[(int)(i/5)] = num_hurricanes[i:i+5].mean()\n",
    "    \n",
    "\n",
    "axes.plot(range(1950, 2018, 5), num_hurricanes_mean, 'ko--')\n",
    "axes.set_xlim((1950, 2017))\n",
    "axes.set_title(\"Hurricanes Each Year\")\n",
    "axes.set_xlabel(\"Year\")\n",
    "axes.set_ylabel(\"Number\")\n",
    "plt.show()"
   ]
  },
  {
   "cell_type": "markdown",
   "metadata": {},
   "source": [
    "## How can I lift the hood to see how this works?\n",
    "\n",
    "For information about the initial imports in this notebook, please see the notebook [here](./explanation_of_initial_python_imports.ipynb)."
   ]
  },
  {
   "cell_type": "markdown",
   "metadata": {},
   "source": [
    "## Consider what you could learn from other BIG datasets. \n",
    "\n",
    "What kinds of questions might you be able to answer using python code to explore one or more datasets from the [**C**ollection of **R**eally **G**reat, **I**nteresting, **S**ituated **D**atasets](https://think.cs.vt.edu/corgis/python/index.html) (opens in a new tab)."
   ]
  },
  {
   "cell_type": "markdown",
   "metadata": {},
   "source": [
    "## Recap \n",
    "\n",
    "* What did you learn about hurricanes today?\n",
    "* What did you learn about coding?\n",
    "* What are some issues that came up? \n",
    "* What would it take to expand this activity to explore other types of data?\n"
   ]
  }
 ],
 "metadata": {
  "kernelspec": {
   "display_name": "Python 3",
   "language": "python",
   "name": "python3"
  },
  "language_info": {
   "codemirror_mode": {
    "name": "ipython",
    "version": 3
   },
   "file_extension": ".py",
   "mimetype": "text/x-python",
   "name": "python",
   "nbconvert_exporter": "python",
   "pygments_lexer": "ipython3",
   "version": "3.6.7"
  },
  "latex_envs": {
   "bibliofile": "biblio.bib",
   "cite_by": "apalike",
   "current_citInitial": 1,
   "eqLabelWithNumbers": true,
   "eqNumInitial": 0
  },
  "toc": {
   "base_numbering": 1,
   "nav_menu": {},
   "number_sections": false,
   "sideBar": true,
   "skip_h1_title": false,
   "title_cell": "Table of Contents",
   "title_sidebar": "Contents",
   "toc_cell": false,
   "toc_position": {},
   "toc_section_display": true,
   "toc_window_display": true
  }
 },
 "nbformat": 4,
 "nbformat_minor": 4
}
