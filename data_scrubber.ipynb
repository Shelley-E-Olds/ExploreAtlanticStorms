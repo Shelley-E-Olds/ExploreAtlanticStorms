{
 "cells": [
  {
   "cell_type": "markdown",
   "metadata": {},
   "source": [
    "# Purpose\n",
    "\n",
    "The dataset has invalid data in the time column \n",
    "\n",
    "\n"
   ]
  },
  {
   "cell_type": "code",
   "execution_count": 1,
   "metadata": {},
   "outputs": [],
   "source": [
    "import requests\n",
    "r = requests.get(\"https://raw.githubusercontent.com/Shelley-E-Olds/ExploreAtlanticStorms/master/Data_AtlanticStorms_1950_2017.txt\")\n",
    "\n",
    "with open(\"Data_original.txt\" , \"w\") as f:\n",
    "    f.write(r.text)"
   ]
  },
  {
   "cell_type": "code",
   "execution_count": 2,
   "metadata": {},
   "outputs": [
    {
     "name": "stdout",
     "output_type": "stream",
     "text": [
      "['1950', '8', '12', '0', '1', 'ABLE', '16.5', '-54.5', '35', '0']\n",
      "0\n"
     ]
    }
   ],
   "source": [
    "with open(\"Data_original.txt\") as f_data:\n",
    "    for line in f_data:\n",
    "        cur_line = line.split()\n",
    "        print(cur_line)\n",
    "        print(cur_line[3])\n",
    "        break"
   ]
  },
  {
   "cell_type": "markdown",
   "metadata": {},
   "source": [
    "Here is one way of implementing the logic:"
   ]
  },
  {
   "cell_type": "code",
   "execution_count": 3,
   "metadata": {},
   "outputs": [
    {
     "name": "stdout",
     "output_type": "stream",
     "text": [
      "1950  8 12  0  1 ABLE       16.5  -54.5   35    0\n",
      "\n"
     ]
    }
   ],
   "source": [
    "with open(\"Data_original.txt\") as f_data:\n",
    "    for line in f_data:\n",
    "        cur_line = line.split()\n",
    "        # print(cur_line)\n",
    "        \n",
    "        hour_col = cur_line[3]\n",
    "        if hour_col == '0'  or hour_col == '6' or hour_col == '12' or hour_col == '18':\n",
    "            print(line)\n",
    "        \n",
    "        break"
   ]
  },
  {
   "cell_type": "markdown",
   "metadata": {},
   "source": [
    "and yet another way to implement the logic:"
   ]
  },
  {
   "cell_type": "code",
   "execution_count": 4,
   "metadata": {},
   "outputs": [],
   "source": [
    "with open(\"Data_original.txt\") as f_data, \\\n",
    "     open(\"Data_scrubbed.txt\", \"w\") as f_scrubbed:\n",
    "    for line in f_data:\n",
    "        cur_line = line.split()        \n",
    "        hour_col = cur_line[3]\n",
    "        \n",
    "        if hour_col in ['0', '6', '12', '18']:\n",
    "            f_scrubbed.write(line)"
   ]
  },
  {
   "cell_type": "markdown",
   "metadata": {},
   "source": [
    "We are going to check for the number of columns must equal 10."
   ]
  },
  {
   "cell_type": "code",
   "execution_count": 5,
   "metadata": {},
   "outputs": [],
   "source": [
    "with open(\"Data_original.txt\") as f_data, \\\n",
    "     open(\"Data_scrubbed.txt\", \"w\") as f_scrubbed:\n",
    "    for line in f_data:\n",
    "        cur_line = line.split()        \n",
    "        hour_col = cur_line[3]\n",
    "        \n",
    "        if cur_line[5] != 'NOT' and cur_line[6] != 'NAMED':\n",
    "            if hour_col in ['0', '6', '12', '18'] and len(cur_line) == 10:\n",
    "                f_scrubbed.write(line)\n",
    "            else:\n",
    "                print(line)"
   ]
  }
 ],
 "metadata": {
  "kernelspec": {
   "display_name": "Python 3",
   "language": "python",
   "name": "python3"
  },
  "language_info": {
   "codemirror_mode": {
    "name": "ipython",
    "version": 3
   },
   "file_extension": ".py",
   "mimetype": "text/x-python",
   "name": "python",
   "nbconvert_exporter": "python",
   "pygments_lexer": "ipython3",
   "version": "3.6.7"
  },
  "toc": {
   "base_numbering": 1,
   "nav_menu": {},
   "number_sections": false,
   "sideBar": true,
   "skip_h1_title": false,
   "title_cell": "Table of Contents",
   "title_sidebar": "Contents",
   "toc_cell": false,
   "toc_position": {
    "height": "calc(100% - 180px)",
    "left": "10px",
    "top": "150px",
    "width": "239.28px"
   },
   "toc_section_display": true,
   "toc_window_display": true
  }
 },
 "nbformat": 4,
 "nbformat_minor": 2
}
