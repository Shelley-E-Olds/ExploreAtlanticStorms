{
 "cells": [
  {
   "cell_type": "markdown",
   "metadata": {},
   "source": [
    "# Explanation of initial Python imports"
   ]
  },
  {
   "cell_type": "markdown",
   "metadata": {},
   "source": [
    "In order for the plots in your notebook to appear _inside_ the notebook, you will need to run this command."
   ]
  },
  {
   "cell_type": "code",
   "execution_count": 1,
   "metadata": {},
   "outputs": [],
   "source": [
    "%matplotlib inline"
   ]
  },
  {
   "cell_type": "markdown",
   "metadata": {},
   "source": [
    "For further reference, see:\n",
    "\n",
    "* [matplotlib magic command](https://ipython.org/ipython-doc/3/interactive/magics.html#magic-matplotlib)"
   ]
  },
  {
   "cell_type": "code",
   "execution_count": 2,
   "metadata": {},
   "outputs": [],
   "source": [
    "import numpy"
   ]
  },
  {
   "cell_type": "markdown",
   "metadata": {},
   "source": [
    "[Numpy](https://www.numpy.org/) is one of the most important numerical manipulation libraries in the Python stack.  You will see later a few of the commands we use in numpy to build up our datasets."
   ]
  },
  {
   "cell_type": "code",
   "execution_count": 3,
   "metadata": {},
   "outputs": [],
   "source": [
    "import matplotlib.pyplot as plt"
   ]
  },
  {
   "cell_type": "markdown",
   "metadata": {},
   "source": [
    "In order to make plots, you will need to use the [`pyplot` library](https://matplotlib.org/api/_as_gen/matplotlib.pyplot.html?highlight=pyplot#module-matplotlib.pyplot) in matplotlib.  This command sets up an \"alias\", which substitutes `plt` for `matplotlib.pylot` everywhere `plt` is used, to save you some typing.\n",
    "\n",
    "For example, \n",
    "\n",
    "`matplotlib.pyplot.show()`\n",
    "\n",
    "is equivalent to\n",
    "\n",
    "`plt.show()`\n",
    "\n",
    "when you use the import\n",
    "\n",
    "`import matplotlib.pyplot as plt`"
   ]
  },
  {
   "cell_type": "code",
   "execution_count": 4,
   "metadata": {},
   "outputs": [],
   "source": [
    "import datetime"
   ]
  },
  {
   "cell_type": "markdown",
   "metadata": {},
   "source": [
    "Datetime is a very important and useful \"swiss army knife\" of date manipulation in Python.  There are a number of useful features to convert dates, times, timezones, etc.\n",
    "\n",
    "For further reference, see:\n",
    "\n",
    "* [Datetime](https://docs.python.org/3/library/datetime.html) library in Python 3.x\n"
   ]
  },
  {
   "cell_type": "code",
   "execution_count": 5,
   "metadata": {},
   "outputs": [],
   "source": [
    "from mpl_toolkits.basemap import Basemap"
   ]
  },
  {
   "cell_type": "markdown",
   "metadata": {},
   "source": [
    "So this import statement is a little different than before.\n",
    "\n",
    "First, [`Basemap`](https://matplotlib.org/basemap/#) is a library that provides an amazing array of mapping visualization tools. \n",
    "\n",
    "What it is saying is from the library `mpl_toolkits` there is a sub-library called `basemap` (e.g. `mpl_toolkits.basemap`).\n",
    "\n",
    "Now, _inside_ of the sub-module [`mpl_toolkits.basemap`](https://matplotlib.org/basemap/#), there is a specific class called `Basemap`.  \n",
    "\n",
    "This code imports that class directly from the `mpl_toolkits.basemap` library, and directly imports the `Basemap` class for direct use.  So that code might look like this (notice that the `Basemap` class is called directly with the desired parameters):\n",
    "\n",
    "```python\n",
    "map_object = Basemap(llcrnrlon=-100.0, llcrnrlat=20.0, urcrnrlon=-20.0, urcrnrlat=57.0,\n",
    "                  projection='lcc', lat_1=20.0, lat_2=40.0, lon_0=-60.0,\n",
    "                  resolution ='l', area_thresh=1000.0)\n",
    "```"
   ]
  }
 ],
 "metadata": {
  "kernelspec": {
   "display_name": "Python [conda env:conda]",
   "language": "python",
   "name": "conda-env-conda-py"
  },
  "language_info": {
   "codemirror_mode": {
    "name": "ipython",
    "version": 3
   },
   "file_extension": ".py",
   "mimetype": "text/x-python",
   "name": "python",
   "nbconvert_exporter": "python",
   "pygments_lexer": "ipython3",
   "version": "3.6.5"
  }
 },
 "nbformat": 4,
 "nbformat_minor": 2
}
